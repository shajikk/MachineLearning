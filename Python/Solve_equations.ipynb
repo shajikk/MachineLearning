{
 "cells": [
  {
   "cell_type": "markdown",
   "metadata": {},
   "source": [
    "## Solve equations"
   ]
  },
  {
   "cell_type": "code",
   "execution_count": 33,
   "metadata": {},
   "outputs": [],
   "source": [
    "# Print all the interactive output without resorting to print, not only the last result\n",
    "from IPython.core.interactiveshell import InteractiveShell\n",
    "InteractiveShell.ast_node_interactivity = \"all\""
   ]
  },
  {
   "cell_type": "code",
   "execution_count": 21,
   "metadata": {},
   "outputs": [
    {
     "name": "stdout",
     "output_type": "stream",
     "text": [
      "Using Sympy:\n"
     ]
    },
    {
     "data": {
      "image/png": "[encoded data removed]",
      "text/latex": [
       "$$2 x - y = -4$$"
      ],
      "text/plain": [
       "2⋅x - y = -4"
      ]
     },
     "metadata": {},
     "output_type": "display_data"
    },
    {
     "data": {
      "image/png": "[encoded data removed]",
      "text/latex": [
       "$$3 x - 1 = -2$$"
      ],
      "text/plain": [
       "3⋅x - 1 = -2"
      ]
     },
     "metadata": {},
     "output_type": "display_data"
    },
    {
     "data": {
      "text/latex": [
       "$$\\left[\\begin{matrix}2 & -1 & -4\\\\3 & -1 & -2\\end{matrix}\\right]$$"
      ],
      "text/plain": [
       "⎡2  -1  -4⎤\n",
       "⎢         ⎥\n",
       "⎣3  -1  -2⎦"
      ]
     },
     "metadata": {},
     "output_type": "display_data"
    },
    {
     "data": {
      "image/png": "[encoded data removed]",
      "text/latex": [
       "$$\\left \\{ x : 2, \\quad y : 8\\right \\}$$"
      ],
      "text/plain": [
       "{x: 2, y: 8}"
      ]
     },
     "metadata": {},
     "output_type": "display_data"
    }
   ],
   "source": [
    "from sympy.interactive import printing\n",
    "printing.init_printing(use_latex=True)\n",
    "from sympy import Eq, solve_linear_system, Matrix\n",
    "from numpy import linalg\n",
    "import numpy as np\n",
    "import sympy as sp\n",
    "\n",
    "print (\"Using Sympy:\")\n",
    "\n",
    "# Set up display part\n",
    "eq1 = sp.Function('eq1')\n",
    "eq2 = sp.Function('eq2')\n",
    "x,y  = sp.symbols('x y')\n",
    "\n",
    "eq1 = Eq(2*x - y, -4)\n",
    "eq2 = Eq(3*x - 1, -2)\n",
    "display(eq1)\n",
    "display(eq2)\n",
    "\n",
    "row1 = [2, -1, -4]\n",
    "row2 = [3, -1, -2]\n",
    "\n",
    "system = Matrix((row1, row2))\n",
    "display(system)\n",
    "\n",
    "display(solve_linear_system(system, x, y))\n"
   ]
  },
  {
   "cell_type": "code",
   "execution_count": 27,
   "metadata": {},
   "outputs": [
    {
     "name": "stdout",
     "output_type": "stream",
     "text": [
      "Using Numpy:\n"
     ]
    },
    {
     "data": {
      "text/plain": [
       "array([2., 8.])"
      ]
     },
     "metadata": {},
     "output_type": "display_data"
    },
    {
     "name": "stdout",
     "output_type": "stream",
     "text": [
      "x = 2, y = 8\n"
     ]
    }
   ],
   "source": [
    "print (\"Using Numpy:\")\n",
    "\n",
    "nrow1 = [2, -1]\n",
    "nrow2 = [3, -1]\n",
    "\n",
    "nmat = np.array([nrow1, nrow2])\n",
    "cons = np.array([-4, -2])\n",
    "\n",
    "answer = linalg.solve(nmat, cons)\n",
    "display(answer)\n",
    "\n",
    "print(\"x = %s, y = %s\" %(int(answer[0]), int(answer[1])))"
   ]
  },
  {
   "cell_type": "code",
   "execution_count": 34,
   "metadata": {},
   "outputs": [
    {
     "data": {
      "text/plain": [
       "array([[  2,  -1,   3,   4,   5],\n",
       "       [  3,  -1,   8,   9,  10],\n",
       "       [ 12,  -1,   3,   4,   5],\n",
       "       [  3, -11,   8,   9,   1],\n",
       "       [  9,  -1,   8,   7,   1]])"
      ]
     },
     "execution_count": 34,
     "metadata": {},
     "output_type": "execute_result"
    },
    {
     "data": {
      "text/plain": [
       "array([  1.1    ,  -4.11625,  14.49875, -17.78125,   3.4625 ])"
      ]
     },
     "metadata": {},
     "output_type": "display_data"
    }
   ],
   "source": [
    "nrow1 = [2, -1, 3, 4, 5]\n",
    "nrow2 = [3, -1, 8, 9, 10]\n",
    "nrow3 = [12, -1, 3, 4, 5]\n",
    "nrow4 = [3, -11, 8, 9, 1]\n",
    "nrow5 = [9, -1, 8, 7, 1]\n",
    "\n",
    "nmat = np.array([nrow1, nrow2, nrow3, nrow4, nrow5 ])\n",
    "nmat\n",
    "cons = np.array([-4, -2, 7, 8, 9])\n",
    "\n",
    "answer = linalg.solve(nmat, cons)\n",
    "display(answer)\n"
   ]
  },
  {
   "cell_type": "code",
   "execution_count": null,
   "metadata": {},
   "outputs": [],
   "source": []
  }
 ],
 "metadata": {
  "kernelspec": {
   "display_name": "Python 3",
   "language": "python",
   "name": "python3"
  },
  "language_info": {
   "codemirror_mode": {
    "name": "ipython",
    "version": 3
   },
   "file_extension": ".py",
   "mimetype": "text/x-python",
   "name": "python",
   "nbconvert_exporter": "python",
   "pygments_lexer": "ipython3",
   "version": "3.5.2"
  }
 },
 "nbformat": 4,
 "nbformat_minor": 2
}
